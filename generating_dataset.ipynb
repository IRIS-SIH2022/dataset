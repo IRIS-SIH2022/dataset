{
 "cells": [
  {
   "cell_type": "code",
   "execution_count": 1,
   "id": "a01c9774",
   "metadata": {},
   "outputs": [],
   "source": [
    "# This is the code to generate the Delhi crime dataset using chicago dataset "
   ]
  },
  {
   "cell_type": "code",
   "execution_count": 2,
   "id": "1613ee00",
   "metadata": {},
   "outputs": [
    {
     "data": {
      "text/plain": [
       "'3.10.4 (main, Mar 31 2022, 03:38:35) [Clang 12.0.0 ]'"
      ]
     },
     "execution_count": 2,
     "metadata": {},
     "output_type": "execute_result"
    }
   ],
   "source": [
    "import sys\n",
    "sys.version"
   ]
  },
  {
   "cell_type": "code",
   "execution_count": 3,
   "id": "b8dcee0d",
   "metadata": {},
   "outputs": [],
   "source": [
    "from glob import glob\n",
    "import os\n",
    "import numpy as np\n",
    "import pandas as pd\n",
    "import matplotlib.pyplot as plt"
   ]
  },
  {
   "cell_type": "code",
   "execution_count": 4,
   "id": "fd44d827",
   "metadata": {
    "scrolled": true
   },
   "outputs": [
    {
     "data": {
      "text/plain": [
       "['/Users/anshitbansal/Desktop/Criminal-Activity-Hotspots/data/Crime_Compress.csv',\n",
       " '/Users/anshitbansal/Desktop/Criminal-Activity-Hotspots/data/crimes_2012.csv',\n",
       " '/Users/anshitbansal/Desktop/Criminal-Activity-Hotspots/data/crimes_2013.csv',\n",
       " '/Users/anshitbansal/Desktop/Criminal-Activity-Hotspots/data/crimes_2014.csv',\n",
       " '/Users/anshitbansal/Desktop/Criminal-Activity-Hotspots/data/crimes_2015.csv',\n",
       " '/Users/anshitbansal/Desktop/Criminal-Activity-Hotspots/data/crimes_2016.csv',\n",
       " '/Users/anshitbansal/Desktop/Criminal-Activity-Hotspots/data/crimes_2017.csv',\n",
       " '/Users/anshitbansal/Desktop/Criminal-Activity-Hotspots/data/crimes_2018.csv',\n",
       " '/Users/anshitbansal/Desktop/Criminal-Activity-Hotspots/data/crimes_2019.csv']"
      ]
     },
     "execution_count": 4,
     "metadata": {},
     "output_type": "execute_result"
    }
   ],
   "source": [
    "all_file_path = glob('/Users/anshitbansal/Desktop/Criminal-Activity-Hotspots/data/*.csv')\n",
    "all_file_path.sort()\n",
    "all_file_path"
   ]
  },
  {
   "cell_type": "code",
   "execution_count": 5,
   "id": "d21a9bff",
   "metadata": {},
   "outputs": [],
   "source": [
    "data_2012 = pd.read_csv(all_file_path[1])\n",
    "data_2013 = pd.read_csv(all_file_path[2])\n",
    "data_2014 = pd.read_csv(all_file_path[3])\n",
    "data_2015 = pd.read_csv(all_file_path[4])\n",
    "data_2016 = pd.read_csv(all_file_path[5])\n",
    "data_2017 = pd.read_csv(all_file_path[6])"
   ]
  },
  {
   "cell_type": "code",
   "execution_count": 6,
   "id": "aaff4012",
   "metadata": {},
   "outputs": [],
   "source": [
    "data_2012_clean = data_2012.dropna()\n",
    "data_2013_clean = data_2013.dropna()\n",
    "data_2014_clean = data_2014.dropna()\n",
    "data_2015_clean = data_2015.dropna()\n",
    "data_2016_clean = data_2016.dropna()\n",
    "data_2017_clean = data_2017.dropna()"
   ]
  },
  {
   "cell_type": "code",
   "execution_count": 7,
   "id": "95b6c5bf",
   "metadata": {},
   "outputs": [
    {
     "data": {
      "text/html": [
       "<div>\n",
       "<style scoped>\n",
       "    .dataframe tbody tr th:only-of-type {\n",
       "        vertical-align: middle;\n",
       "    }\n",
       "\n",
       "    .dataframe tbody tr th {\n",
       "        vertical-align: top;\n",
       "    }\n",
       "\n",
       "    .dataframe thead th {\n",
       "        text-align: right;\n",
       "    }\n",
       "</style>\n",
       "<table border=\"1\" class=\"dataframe\">\n",
       "  <thead>\n",
       "    <tr style=\"text-align: right;\">\n",
       "      <th></th>\n",
       "      <th>ID</th>\n",
       "      <th>Case Number</th>\n",
       "      <th>Date</th>\n",
       "      <th>Block</th>\n",
       "      <th>IUCR</th>\n",
       "      <th>Primary Type</th>\n",
       "      <th>Description</th>\n",
       "      <th>Location Description</th>\n",
       "      <th>Arrest</th>\n",
       "      <th>Domestic</th>\n",
       "      <th>...</th>\n",
       "      <th>Longitude</th>\n",
       "      <th>Location</th>\n",
       "      <th>Historical Wards 2003-2015</th>\n",
       "      <th>Zip Codes</th>\n",
       "      <th>Community Areas</th>\n",
       "      <th>Census Tracts</th>\n",
       "      <th>Wards</th>\n",
       "      <th>Boundaries - ZIP Codes</th>\n",
       "      <th>Police Districts</th>\n",
       "      <th>Police Beats</th>\n",
       "    </tr>\n",
       "  </thead>\n",
       "  <tbody>\n",
       "    <tr>\n",
       "      <th>0</th>\n",
       "      <td>10819224</td>\n",
       "      <td>JA119772</td>\n",
       "      <td>12/31/2016 11:59:00 PM</td>\n",
       "      <td>100XX W OHARE ST</td>\n",
       "      <td>0810</td>\n",
       "      <td>THEFT</td>\n",
       "      <td>OVER $500</td>\n",
       "      <td>AIRPORT BUILDING NON-TERMINAL - SECURE AREA</td>\n",
       "      <td>False</td>\n",
       "      <td>False</td>\n",
       "      <td>...</td>\n",
       "      <td>-87.905227</td>\n",
       "      <td>(41.976290414, -87.905227221)</td>\n",
       "      <td>34.0</td>\n",
       "      <td>16197.0</td>\n",
       "      <td>75.0</td>\n",
       "      <td>668.0</td>\n",
       "      <td>29.0</td>\n",
       "      <td>38.0</td>\n",
       "      <td>12.0</td>\n",
       "      <td>24.0</td>\n",
       "    </tr>\n",
       "    <tr>\n",
       "      <th>1</th>\n",
       "      <td>10801137</td>\n",
       "      <td>JA100016</td>\n",
       "      <td>12/31/2016 11:58:00 PM</td>\n",
       "      <td>0000X W 113TH PL</td>\n",
       "      <td>0430</td>\n",
       "      <td>BATTERY</td>\n",
       "      <td>AGGRAVATED: OTHER DANG WEAPON</td>\n",
       "      <td>RESIDENCE</td>\n",
       "      <td>False</td>\n",
       "      <td>False</td>\n",
       "      <td>...</td>\n",
       "      <td>-87.623931</td>\n",
       "      <td>(41.688033246, -87.623931468)</td>\n",
       "      <td>45.0</td>\n",
       "      <td>21861.0</td>\n",
       "      <td>45.0</td>\n",
       "      <td>660.0</td>\n",
       "      <td>22.0</td>\n",
       "      <td>19.0</td>\n",
       "      <td>10.0</td>\n",
       "      <td>267.0</td>\n",
       "    </tr>\n",
       "    <tr>\n",
       "      <th>2</th>\n",
       "      <td>10801110</td>\n",
       "      <td>JA100027</td>\n",
       "      <td>12/31/2016 11:55:00 PM</td>\n",
       "      <td>030XX N LINCOLN AVE</td>\n",
       "      <td>2250</td>\n",
       "      <td>LIQUOR LAW VIOLATION</td>\n",
       "      <td>LIQUOR LICENSE VIOLATION</td>\n",
       "      <td>RESIDENCE</td>\n",
       "      <td>True</td>\n",
       "      <td>False</td>\n",
       "      <td>...</td>\n",
       "      <td>-87.664770</td>\n",
       "      <td>(41.936884881, -87.66476981)</td>\n",
       "      <td>16.0</td>\n",
       "      <td>4449.0</td>\n",
       "      <td>57.0</td>\n",
       "      <td>712.0</td>\n",
       "      <td>40.0</td>\n",
       "      <td>22.0</td>\n",
       "      <td>5.0</td>\n",
       "      <td>173.0</td>\n",
       "    </tr>\n",
       "    <tr>\n",
       "      <th>3</th>\n",
       "      <td>10802006</td>\n",
       "      <td>JA100012</td>\n",
       "      <td>12/31/2016 11:55:00 PM</td>\n",
       "      <td>0000X E WACKER PL</td>\n",
       "      <td>0486</td>\n",
       "      <td>BATTERY</td>\n",
       "      <td>DOMESTIC BATTERY SIMPLE</td>\n",
       "      <td>HOTEL/MOTEL</td>\n",
       "      <td>False</td>\n",
       "      <td>True</td>\n",
       "      <td>...</td>\n",
       "      <td>-87.625593</td>\n",
       "      <td>(41.886814897, -87.625592678)</td>\n",
       "      <td>22.0</td>\n",
       "      <td>14309.0</td>\n",
       "      <td>38.0</td>\n",
       "      <td>580.0</td>\n",
       "      <td>36.0</td>\n",
       "      <td>42.0</td>\n",
       "      <td>22.0</td>\n",
       "      <td>88.0</td>\n",
       "    </tr>\n",
       "    <tr>\n",
       "      <th>4</th>\n",
       "      <td>10801865</td>\n",
       "      <td>JA100839</td>\n",
       "      <td>12/31/2016 11:54:00 PM</td>\n",
       "      <td>078XX S INDIANA AVE</td>\n",
       "      <td>1310</td>\n",
       "      <td>CRIMINAL DAMAGE</td>\n",
       "      <td>TO PROPERTY</td>\n",
       "      <td>RESIDENCE</td>\n",
       "      <td>False</td>\n",
       "      <td>True</td>\n",
       "      <td>...</td>\n",
       "      <td>-87.619798</td>\n",
       "      <td>(41.752307019, -87.619797619)</td>\n",
       "      <td>31.0</td>\n",
       "      <td>21546.0</td>\n",
       "      <td>67.0</td>\n",
       "      <td>475.0</td>\n",
       "      <td>32.0</td>\n",
       "      <td>61.0</td>\n",
       "      <td>20.0</td>\n",
       "      <td>228.0</td>\n",
       "    </tr>\n",
       "    <tr>\n",
       "      <th>...</th>\n",
       "      <td>...</td>\n",
       "      <td>...</td>\n",
       "      <td>...</td>\n",
       "      <td>...</td>\n",
       "      <td>...</td>\n",
       "      <td>...</td>\n",
       "      <td>...</td>\n",
       "      <td>...</td>\n",
       "      <td>...</td>\n",
       "      <td>...</td>\n",
       "      <td>...</td>\n",
       "      <td>...</td>\n",
       "      <td>...</td>\n",
       "      <td>...</td>\n",
       "      <td>...</td>\n",
       "      <td>...</td>\n",
       "      <td>...</td>\n",
       "      <td>...</td>\n",
       "      <td>...</td>\n",
       "      <td>...</td>\n",
       "      <td>...</td>\n",
       "    </tr>\n",
       "    <tr>\n",
       "      <th>269032</th>\n",
       "      <td>11324071</td>\n",
       "      <td>JB275468</td>\n",
       "      <td>01/01/2016 12:00:00 AM</td>\n",
       "      <td>029XX N LAKE SHORE DR</td>\n",
       "      <td>0560</td>\n",
       "      <td>ASSAULT</td>\n",
       "      <td>SIMPLE</td>\n",
       "      <td>NURSING HOME/RETIREMENT HOME</td>\n",
       "      <td>False</td>\n",
       "      <td>True</td>\n",
       "      <td>...</td>\n",
       "      <td>NaN</td>\n",
       "      <td>NaN</td>\n",
       "      <td>NaN</td>\n",
       "      <td>NaN</td>\n",
       "      <td>NaN</td>\n",
       "      <td>NaN</td>\n",
       "      <td>NaN</td>\n",
       "      <td>NaN</td>\n",
       "      <td>NaN</td>\n",
       "      <td>NaN</td>\n",
       "    </tr>\n",
       "    <tr>\n",
       "      <th>269033</th>\n",
       "      <td>11119798</td>\n",
       "      <td>JA471175</td>\n",
       "      <td>01/01/2016 12:00:00 AM</td>\n",
       "      <td>072XX S FAIRFIELD AVE</td>\n",
       "      <td>0266</td>\n",
       "      <td>CRIM SEXUAL ASSAULT</td>\n",
       "      <td>PREDATORY</td>\n",
       "      <td>RESIDENCE</td>\n",
       "      <td>False</td>\n",
       "      <td>False</td>\n",
       "      <td>...</td>\n",
       "      <td>-87.691736</td>\n",
       "      <td>(41.762075613, -87.691735556)</td>\n",
       "      <td>6.0</td>\n",
       "      <td>21867.0</td>\n",
       "      <td>64.0</td>\n",
       "      <td>333.0</td>\n",
       "      <td>30.0</td>\n",
       "      <td>58.0</td>\n",
       "      <td>13.0</td>\n",
       "      <td>208.0</td>\n",
       "    </tr>\n",
       "    <tr>\n",
       "      <th>269034</th>\n",
       "      <td>10365841</td>\n",
       "      <td>HZ101659</td>\n",
       "      <td>01/01/2016 12:00:00 AM</td>\n",
       "      <td>002XX N DEARBORN ST</td>\n",
       "      <td>1320</td>\n",
       "      <td>CRIMINAL DAMAGE</td>\n",
       "      <td>TO VEHICLE</td>\n",
       "      <td>PARKING LOT/GARAGE(NON.RESID.)</td>\n",
       "      <td>False</td>\n",
       "      <td>False</td>\n",
       "      <td>...</td>\n",
       "      <td>-87.629505</td>\n",
       "      <td>(41.886012928, -87.629505318)</td>\n",
       "      <td>22.0</td>\n",
       "      <td>14309.0</td>\n",
       "      <td>38.0</td>\n",
       "      <td>92.0</td>\n",
       "      <td>36.0</td>\n",
       "      <td>42.0</td>\n",
       "      <td>22.0</td>\n",
       "      <td>88.0</td>\n",
       "    </tr>\n",
       "    <tr>\n",
       "      <th>269035</th>\n",
       "      <td>11466445</td>\n",
       "      <td>JB462020</td>\n",
       "      <td>01/01/2016 12:00:00 AM</td>\n",
       "      <td>010XX S CLARK ST</td>\n",
       "      <td>1153</td>\n",
       "      <td>DECEPTIVE PRACTICE</td>\n",
       "      <td>FINANCIAL IDENTITY THEFT OVER $ 300</td>\n",
       "      <td>APARTMENT</td>\n",
       "      <td>False</td>\n",
       "      <td>False</td>\n",
       "      <td>...</td>\n",
       "      <td>NaN</td>\n",
       "      <td>NaN</td>\n",
       "      <td>NaN</td>\n",
       "      <td>NaN</td>\n",
       "      <td>NaN</td>\n",
       "      <td>NaN</td>\n",
       "      <td>NaN</td>\n",
       "      <td>NaN</td>\n",
       "      <td>NaN</td>\n",
       "      <td>NaN</td>\n",
       "    </tr>\n",
       "    <tr>\n",
       "      <th>269036</th>\n",
       "      <td>10567295</td>\n",
       "      <td>HZ315254</td>\n",
       "      <td>01/01/2016 12:00:00 AM</td>\n",
       "      <td>004XX E 81ST ST</td>\n",
       "      <td>1153</td>\n",
       "      <td>DECEPTIVE PRACTICE</td>\n",
       "      <td>FINANCIAL IDENTITY THEFT OVER $ 300</td>\n",
       "      <td>RESIDENCE</td>\n",
       "      <td>False</td>\n",
       "      <td>False</td>\n",
       "      <td>...</td>\n",
       "      <td>-87.613226</td>\n",
       "      <td>(41.74748544, -87.613225563)</td>\n",
       "      <td>31.0</td>\n",
       "      <td>21546.0</td>\n",
       "      <td>40.0</td>\n",
       "      <td>11.0</td>\n",
       "      <td>32.0</td>\n",
       "      <td>61.0</td>\n",
       "      <td>20.0</td>\n",
       "      <td>235.0</td>\n",
       "    </tr>\n",
       "  </tbody>\n",
       "</table>\n",
       "<p>269037 rows × 30 columns</p>\n",
       "</div>"
      ],
      "text/plain": [
       "              ID Case Number                    Date                  Block  \\\n",
       "0       10819224    JA119772  12/31/2016 11:59:00 PM       100XX W OHARE ST   \n",
       "1       10801137    JA100016  12/31/2016 11:58:00 PM       0000X W 113TH PL   \n",
       "2       10801110    JA100027  12/31/2016 11:55:00 PM    030XX N LINCOLN AVE   \n",
       "3       10802006    JA100012  12/31/2016 11:55:00 PM      0000X E WACKER PL   \n",
       "4       10801865    JA100839  12/31/2016 11:54:00 PM    078XX S INDIANA AVE   \n",
       "...          ...         ...                     ...                    ...   \n",
       "269032  11324071    JB275468  01/01/2016 12:00:00 AM  029XX N LAKE SHORE DR   \n",
       "269033  11119798    JA471175  01/01/2016 12:00:00 AM  072XX S FAIRFIELD AVE   \n",
       "269034  10365841    HZ101659  01/01/2016 12:00:00 AM    002XX N DEARBORN ST   \n",
       "269035  11466445    JB462020  01/01/2016 12:00:00 AM       010XX S CLARK ST   \n",
       "269036  10567295    HZ315254  01/01/2016 12:00:00 AM        004XX E 81ST ST   \n",
       "\n",
       "        IUCR          Primary Type                          Description  \\\n",
       "0       0810                 THEFT                            OVER $500   \n",
       "1       0430               BATTERY        AGGRAVATED: OTHER DANG WEAPON   \n",
       "2       2250  LIQUOR LAW VIOLATION             LIQUOR LICENSE VIOLATION   \n",
       "3       0486               BATTERY              DOMESTIC BATTERY SIMPLE   \n",
       "4       1310       CRIMINAL DAMAGE                          TO PROPERTY   \n",
       "...      ...                   ...                                  ...   \n",
       "269032  0560               ASSAULT                               SIMPLE   \n",
       "269033  0266   CRIM SEXUAL ASSAULT                            PREDATORY   \n",
       "269034  1320       CRIMINAL DAMAGE                           TO VEHICLE   \n",
       "269035  1153    DECEPTIVE PRACTICE  FINANCIAL IDENTITY THEFT OVER $ 300   \n",
       "269036  1153    DECEPTIVE PRACTICE  FINANCIAL IDENTITY THEFT OVER $ 300   \n",
       "\n",
       "                               Location Description  Arrest  Domestic  ...  \\\n",
       "0       AIRPORT BUILDING NON-TERMINAL - SECURE AREA   False     False  ...   \n",
       "1                                         RESIDENCE   False     False  ...   \n",
       "2                                         RESIDENCE    True     False  ...   \n",
       "3                                       HOTEL/MOTEL   False      True  ...   \n",
       "4                                         RESIDENCE   False      True  ...   \n",
       "...                                             ...     ...       ...  ...   \n",
       "269032                 NURSING HOME/RETIREMENT HOME   False      True  ...   \n",
       "269033                                    RESIDENCE   False     False  ...   \n",
       "269034               PARKING LOT/GARAGE(NON.RESID.)   False     False  ...   \n",
       "269035                                    APARTMENT   False     False  ...   \n",
       "269036                                    RESIDENCE   False     False  ...   \n",
       "\n",
       "        Longitude                       Location  Historical Wards 2003-2015  \\\n",
       "0      -87.905227  (41.976290414, -87.905227221)                        34.0   \n",
       "1      -87.623931  (41.688033246, -87.623931468)                        45.0   \n",
       "2      -87.664770   (41.936884881, -87.66476981)                        16.0   \n",
       "3      -87.625593  (41.886814897, -87.625592678)                        22.0   \n",
       "4      -87.619798  (41.752307019, -87.619797619)                        31.0   \n",
       "...           ...                            ...                         ...   \n",
       "269032        NaN                            NaN                         NaN   \n",
       "269033 -87.691736  (41.762075613, -87.691735556)                         6.0   \n",
       "269034 -87.629505  (41.886012928, -87.629505318)                        22.0   \n",
       "269035        NaN                            NaN                         NaN   \n",
       "269036 -87.613226   (41.74748544, -87.613225563)                        31.0   \n",
       "\n",
       "        Zip Codes Community Areas  Census Tracts  Wards  \\\n",
       "0         16197.0            75.0          668.0   29.0   \n",
       "1         21861.0            45.0          660.0   22.0   \n",
       "2          4449.0            57.0          712.0   40.0   \n",
       "3         14309.0            38.0          580.0   36.0   \n",
       "4         21546.0            67.0          475.0   32.0   \n",
       "...           ...             ...            ...    ...   \n",
       "269032        NaN             NaN            NaN    NaN   \n",
       "269033    21867.0            64.0          333.0   30.0   \n",
       "269034    14309.0            38.0           92.0   36.0   \n",
       "269035        NaN             NaN            NaN    NaN   \n",
       "269036    21546.0            40.0           11.0   32.0   \n",
       "\n",
       "        Boundaries - ZIP Codes Police Districts  Police Beats  \n",
       "0                         38.0             12.0          24.0  \n",
       "1                         19.0             10.0         267.0  \n",
       "2                         22.0              5.0         173.0  \n",
       "3                         42.0             22.0          88.0  \n",
       "4                         61.0             20.0         228.0  \n",
       "...                        ...              ...           ...  \n",
       "269032                     NaN              NaN           NaN  \n",
       "269033                    58.0             13.0         208.0  \n",
       "269034                    42.0             22.0          88.0  \n",
       "269035                     NaN              NaN           NaN  \n",
       "269036                    61.0             20.0         235.0  \n",
       "\n",
       "[269037 rows x 30 columns]"
      ]
     },
     "execution_count": 7,
     "metadata": {},
     "output_type": "execute_result"
    }
   ],
   "source": [
    "data_2016"
   ]
  },
  {
   "cell_type": "code",
   "execution_count": 8,
   "id": "be1bac37",
   "metadata": {
    "scrolled": true
   },
   "outputs": [
    {
     "data": {
      "text/plain": [
       "{'ARSON',\n",
       " 'ASSAULT',\n",
       " 'BATTERY',\n",
       " 'BURGLARY',\n",
       " 'CRIM SEXUAL ASSAULT',\n",
       " 'CRIMINAL DAMAGE',\n",
       " 'CRIMINAL TRESPASS',\n",
       " 'DECEPTIVE PRACTICE',\n",
       " 'GAMBLING',\n",
       " 'HOMICIDE',\n",
       " 'INTERFERENCE WITH PUBLIC OFFICER',\n",
       " 'INTIMIDATION',\n",
       " 'KIDNAPPING',\n",
       " 'LIQUOR LAW VIOLATION',\n",
       " 'MOTOR VEHICLE THEFT',\n",
       " 'NARCOTICS',\n",
       " 'NON-CRIMINAL',\n",
       " 'NON-CRIMINAL (SUBJECT SPECIFIED)',\n",
       " 'OBSCENITY',\n",
       " 'OFFENSE INVOLVING CHILDREN',\n",
       " 'OTHER NARCOTIC VIOLATION',\n",
       " 'OTHER OFFENSE',\n",
       " 'PROSTITUTION',\n",
       " 'PUBLIC INDECENCY',\n",
       " 'PUBLIC PEACE VIOLATION',\n",
       " 'ROBBERY',\n",
       " 'SEX OFFENSE',\n",
       " 'STALKING',\n",
       " 'THEFT',\n",
       " 'WEAPONS VIOLATION'}"
      ]
     },
     "execution_count": 8,
     "metadata": {},
     "output_type": "execute_result"
    }
   ],
   "source": [
    "set(data_2012_clean['Primary Type'])"
   ]
  },
  {
   "cell_type": "code",
   "execution_count": 9,
   "id": "027a5c6a",
   "metadata": {},
   "outputs": [],
   "source": [
    "data_2012_clean = data_2012_clean[[\"Case Number\", \"Date\", \"Primary Type\", \"Description\", \"Longitude\", \"Latitude\", \"Police Districts\"]]\n",
    "data_2013_clean = data_2013_clean[[\"Case Number\", \"Date\", \"Primary Type\", \"Description\", \"Longitude\", \"Latitude\", \"Police Districts\"]]\n",
    "data_2014_clean = data_2014_clean[[\"Case Number\", \"Date\", \"Primary Type\", \"Description\", \"Longitude\", \"Latitude\", \"Police Districts\"]]\n",
    "data_2015_clean = data_2015_clean[[\"Case Number\", \"Date\", \"Primary Type\", \"Description\", \"Longitude\", \"Latitude\", \"Police Districts\"]]\n",
    "data_2016_clean = data_2016_clean[[\"Case Number\", \"Date\", \"Primary Type\", \"Description\", \"Longitude\", \"Latitude\", \"Police Districts\"]]\n",
    "data_2017_clean = data_2017_clean[[\"Case Number\", \"Date\", \"Primary Type\", \"Description\", \"Longitude\", \"Latitude\", \"Police Districts\"]]"
   ]
  },
  {
   "cell_type": "code",
   "execution_count": null,
   "id": "4561688e",
   "metadata": {
    "scrolled": true
   },
   "outputs": [],
   "source": []
  },
  {
   "cell_type": "code",
   "execution_count": 10,
   "id": "b1516d10",
   "metadata": {},
   "outputs": [],
   "source": [
    "# splitting date and time for any dataset \n",
    "def splitDateTime(df):\n",
    "    date = []\n",
    "    time = []\n",
    "    for s in df[\"Date\"]:\n",
    "        string = s.split(\" \")\n",
    "        try:\n",
    "            date.append(string[0])\n",
    "            time.append(string[1] + string[2])\n",
    "        except:\n",
    "            print(\"An exception occurred\")\n",
    "    df.drop([\"Date\"], axis = 1)\n",
    "    df[\"Date\"] = date\n",
    "    df[\"Time\"] = time\n",
    "    df = df[['Case Number', 'Date', 'Time', 'Primary Type', 'Description', 'Longitude', 'Latitude', 'Police Districts']]\n",
    "    return df"
   ]
  },
  {
   "cell_type": "code",
   "execution_count": 11,
   "id": "adc5c271",
   "metadata": {},
   "outputs": [],
   "source": [
    "data_2012_clean = splitDateTime(data_2012_clean)\n",
    "data_2013_clean = splitDateTime(data_2013_clean)\n",
    "data_2014_clean = splitDateTime(data_2014_clean)\n",
    "data_2015_clean = splitDateTime(data_2015_clean)\n",
    "data_2016_clean = splitDateTime(data_2016_clean)"
   ]
  },
  {
   "cell_type": "code",
   "execution_count": 12,
   "id": "a0d91306",
   "metadata": {
    "scrolled": false
   },
   "outputs": [
    {
     "data": {
      "text/html": [
       "<div>\n",
       "<style scoped>\n",
       "    .dataframe tbody tr th:only-of-type {\n",
       "        vertical-align: middle;\n",
       "    }\n",
       "\n",
       "    .dataframe tbody tr th {\n",
       "        vertical-align: top;\n",
       "    }\n",
       "\n",
       "    .dataframe thead th {\n",
       "        text-align: right;\n",
       "    }\n",
       "</style>\n",
       "<table border=\"1\" class=\"dataframe\">\n",
       "  <thead>\n",
       "    <tr style=\"text-align: right;\">\n",
       "      <th></th>\n",
       "      <th>Case Number</th>\n",
       "      <th>Date</th>\n",
       "      <th>Time</th>\n",
       "      <th>Primary Type</th>\n",
       "      <th>Description</th>\n",
       "      <th>Longitude</th>\n",
       "      <th>Latitude</th>\n",
       "      <th>Police Districts</th>\n",
       "    </tr>\n",
       "  </thead>\n",
       "  <tbody>\n",
       "    <tr>\n",
       "      <th>0</th>\n",
       "      <td>HY100008</td>\n",
       "      <td>12/31/2014</td>\n",
       "      <td>11:58:00PM</td>\n",
       "      <td>BATTERY</td>\n",
       "      <td>SIMPLE</td>\n",
       "      <td>-87.683593</td>\n",
       "      <td>41.993559</td>\n",
       "      <td>11.0</td>\n",
       "    </tr>\n",
       "    <tr>\n",
       "      <th>1</th>\n",
       "      <td>HY100004</td>\n",
       "      <td>12/31/2014</td>\n",
       "      <td>11:50:00PM</td>\n",
       "      <td>CRIMINAL TRESPASS</td>\n",
       "      <td>TO RESIDENCE</td>\n",
       "      <td>-87.611405</td>\n",
       "      <td>41.824852</td>\n",
       "      <td>24.0</td>\n",
       "    </tr>\n",
       "    <tr>\n",
       "      <th>2</th>\n",
       "      <td>HY100036</td>\n",
       "      <td>12/31/2014</td>\n",
       "      <td>11:50:00PM</td>\n",
       "      <td>WEAPONS VIOLATION</td>\n",
       "      <td>UNLAWFUL USE HANDGUN</td>\n",
       "      <td>-87.721101</td>\n",
       "      <td>41.892408</td>\n",
       "      <td>16.0</td>\n",
       "    </tr>\n",
       "    <tr>\n",
       "      <th>3</th>\n",
       "      <td>HY100062</td>\n",
       "      <td>12/31/2014</td>\n",
       "      <td>11:50:00PM</td>\n",
       "      <td>WEAPONS VIOLATION</td>\n",
       "      <td>UNLAWFUL POSS OF HANDGUN</td>\n",
       "      <td>-87.655615</td>\n",
       "      <td>41.750468</td>\n",
       "      <td>20.0</td>\n",
       "    </tr>\n",
       "    <tr>\n",
       "      <th>4</th>\n",
       "      <td>HY113629</td>\n",
       "      <td>12/31/2014</td>\n",
       "      <td>11:46:00PM</td>\n",
       "      <td>DECEPTIVE PRACTICE</td>\n",
       "      <td>ILLEGAL USE CASH CARD</td>\n",
       "      <td>-87.662498</td>\n",
       "      <td>41.678520</td>\n",
       "      <td>9.0</td>\n",
       "    </tr>\n",
       "  </tbody>\n",
       "</table>\n",
       "</div>"
      ],
      "text/plain": [
       "  Case Number        Date        Time        Primary Type  \\\n",
       "0    HY100008  12/31/2014  11:58:00PM             BATTERY   \n",
       "1    HY100004  12/31/2014  11:50:00PM   CRIMINAL TRESPASS   \n",
       "2    HY100036  12/31/2014  11:50:00PM   WEAPONS VIOLATION   \n",
       "3    HY100062  12/31/2014  11:50:00PM   WEAPONS VIOLATION   \n",
       "4    HY113629  12/31/2014  11:46:00PM  DECEPTIVE PRACTICE   \n",
       "\n",
       "                Description  Longitude   Latitude  Police Districts  \n",
       "0                    SIMPLE -87.683593  41.993559              11.0  \n",
       "1              TO RESIDENCE -87.611405  41.824852              24.0  \n",
       "2      UNLAWFUL USE HANDGUN -87.721101  41.892408              16.0  \n",
       "3  UNLAWFUL POSS OF HANDGUN -87.655615  41.750468              20.0  \n",
       "4     ILLEGAL USE CASH CARD -87.662498  41.678520               9.0  "
      ]
     },
     "execution_count": 12,
     "metadata": {},
     "output_type": "execute_result"
    }
   ],
   "source": [
    "data_2014_clean.head()"
   ]
  },
  {
   "cell_type": "code",
   "execution_count": 13,
   "id": "60a8a2f7",
   "metadata": {},
   "outputs": [],
   "source": [
    "# [firnumber , lat, long, description, timestamp, date, crime type, crime sub category]\n",
    "columns = [\"Unique ID\", \"Date\", \"Time\", \"Crime Type\", \"Crime Sub Category\", \"Description\", \"Latitude\", \"Longitude\", \"Jurisdiction\"]\n",
    "final_df = pd.DataFrame(columns = columns)"
   ]
  },
  {
   "cell_type": "code",
   "execution_count": 14,
   "id": "09910019",
   "metadata": {
    "scrolled": true
   },
   "outputs": [
    {
     "data": {
      "text/html": [
       "<div>\n",
       "<style scoped>\n",
       "    .dataframe tbody tr th:only-of-type {\n",
       "        vertical-align: middle;\n",
       "    }\n",
       "\n",
       "    .dataframe tbody tr th {\n",
       "        vertical-align: top;\n",
       "    }\n",
       "\n",
       "    .dataframe thead th {\n",
       "        text-align: right;\n",
       "    }\n",
       "</style>\n",
       "<table border=\"1\" class=\"dataframe\">\n",
       "  <thead>\n",
       "    <tr style=\"text-align: right;\">\n",
       "      <th></th>\n",
       "      <th>Unique ID</th>\n",
       "      <th>Date</th>\n",
       "      <th>Time</th>\n",
       "      <th>Crime Type</th>\n",
       "      <th>Crime Sub Category</th>\n",
       "      <th>Description</th>\n",
       "      <th>Latitude</th>\n",
       "      <th>Longitude</th>\n",
       "      <th>Jurisdiction</th>\n",
       "    </tr>\n",
       "  </thead>\n",
       "  <tbody>\n",
       "  </tbody>\n",
       "</table>\n",
       "</div>"
      ],
      "text/plain": [
       "Empty DataFrame\n",
       "Columns: [Unique ID, Date, Time, Crime Type, Crime Sub Category, Description, Latitude, Longitude, Jurisdiction]\n",
       "Index: []"
      ]
     },
     "execution_count": 14,
     "metadata": {},
     "output_type": "execute_result"
    }
   ],
   "source": [
    "final_df "
   ]
  },
  {
   "cell_type": "code",
   "execution_count": 15,
   "id": "daaadf33",
   "metadata": {},
   "outputs": [],
   "source": [
    "def prepareDatasets(option):\n",
    "    filtered_df1 = data_2012_clean[data_2012_clean[\"Primary Type\"].isin(option)]\n",
    "    print(filtered_df1.shape)\n",
    "    filtered_df2 = data_2013_clean[data_2013_clean[\"Primary Type\"].isin(option)]\n",
    "    print(filtered_df2.shape)\n",
    "    filtered_df3 = data_2014_clean[data_2014_clean[\"Primary Type\"].isin(option)]\n",
    "    print(filtered_df3.shape)\n",
    "    filtered_df4 = data_2015_clean[data_2015_clean[\"Primary Type\"].isin(option)]\n",
    "    print(filtered_df4.shape)\n",
    "    filtered_df5 = data_2016_clean[data_2016_clean[\"Primary Type\"].isin(option)]\n",
    "    print(filtered_df5.shape)\n",
    "    \n",
    "    print(filtered_df1.head())\n",
    "    \n",
    "    return filtered_df1, filtered_df2, filtered_df3, filtered_df4, filtered_df5"
   ]
  },
  {
   "cell_type": "code",
   "execution_count": 16,
   "id": "8e80a5d2",
   "metadata": {},
   "outputs": [],
   "source": [
    "def prepareDatasets2(option):\n",
    "    filtered_df1 = data_2012_clean[data_2012_clean[\"Primary Type\"].isin(option)]\n",
    "    print(filtered_df1.shape)\n",
    "    filtered_df2 = data_2013_clean[data_2013_clean[\"Primary Type\"].isin(option)]\n",
    "    print(filtered_df2.shape)\n",
    "    filtered_df3 = data_2014_clean[data_2014_clean[\"Primary Type\"].isin(option)]\n",
    "    print(filtered_df3.shape)\n",
    "    filtered_df4 = data_2015_clean[data_2015_clean[\"Primary Type\"].isin(option)]\n",
    "    print(filtered_df4.shape)\n",
    "    filtered_df5 = data_2016_clean[data_2016_clean[\"Primary Type\"].isin(option)]\n",
    "    print(filtered_df5.shape)\n",
    "    \n",
    "    print(filtered_df1.head())\n",
    "    \n",
    "    filtered_df1 = filtered_df1.append(filtered_df2)\n",
    "    filtered_df1 = filtered_df1.append(filtered_df3)\n",
    "    filtered_df1 = filtered_df1.append(filtered_df4)\n",
    "    filtered_df1 = filtered_df1.append(filtered_df5)\n",
    "    \n",
    "    print(\"Combined Size \", filtered_df1.shape[0] )\n",
    "\n",
    "    return filtered_df1, filtered_df3, filtered_df4, filtered_df5"
   ]
  },
  {
   "cell_type": "markdown",
   "id": "9cfc5e3a",
   "metadata": {},
   "source": [
    "## Robbery, Theft, Burglary Primary Type \n",
    "\n",
    "Theft, Robbery, Burglary, Dacoity"
   ]
  },
  {
   "cell_type": "code",
   "execution_count": 17,
   "id": "dad316b3",
   "metadata": {},
   "outputs": [],
   "source": [
    "# burglary "
   ]
  },
  {
   "cell_type": "code",
   "execution_count": 18,
   "id": "0326a5e5",
   "metadata": {},
   "outputs": [],
   "source": [
    "option = [\"BURGLARY\"]\n",
    "burglary_df = data_2012_clean[data_2012_clean[\"Primary Type\"].isin(option)]"
   ]
  },
  {
   "cell_type": "code",
   "execution_count": 19,
   "id": "7eadc552",
   "metadata": {},
   "outputs": [
    {
     "data": {
      "text/plain": [
       "(22742, 8)"
      ]
     },
     "execution_count": 19,
     "metadata": {},
     "output_type": "execute_result"
    }
   ],
   "source": [
    "burglary_df.shape"
   ]
  },
  {
   "cell_type": "code",
   "execution_count": 20,
   "id": "0169f074",
   "metadata": {},
   "outputs": [],
   "source": [
    "burglary_df = burglary_df.iloc[0:3379, :]"
   ]
  },
  {
   "cell_type": "code",
   "execution_count": 21,
   "id": "3cc57633",
   "metadata": {},
   "outputs": [
    {
     "data": {
      "text/plain": [
       "(3379, 8)"
      ]
     },
     "execution_count": 21,
     "metadata": {},
     "output_type": "execute_result"
    }
   ],
   "source": [
    "burglary_df.shape"
   ]
  },
  {
   "cell_type": "code",
   "execution_count": 22,
   "id": "38e98c63",
   "metadata": {
    "scrolled": true
   },
   "outputs": [
    {
     "data": {
      "text/html": [
       "<div>\n",
       "<style scoped>\n",
       "    .dataframe tbody tr th:only-of-type {\n",
       "        vertical-align: middle;\n",
       "    }\n",
       "\n",
       "    .dataframe tbody tr th {\n",
       "        vertical-align: top;\n",
       "    }\n",
       "\n",
       "    .dataframe thead th {\n",
       "        text-align: right;\n",
       "    }\n",
       "</style>\n",
       "<table border=\"1\" class=\"dataframe\">\n",
       "  <thead>\n",
       "    <tr style=\"text-align: right;\">\n",
       "      <th></th>\n",
       "      <th>Case Number</th>\n",
       "      <th>Date</th>\n",
       "      <th>Time</th>\n",
       "      <th>Primary Type</th>\n",
       "      <th>Description</th>\n",
       "      <th>Longitude</th>\n",
       "      <th>Latitude</th>\n",
       "      <th>Police Districts</th>\n",
       "    </tr>\n",
       "  </thead>\n",
       "  <tbody>\n",
       "    <tr>\n",
       "      <th>578</th>\n",
       "      <td>HV114556</td>\n",
       "      <td>01/11/2012</td>\n",
       "      <td>08:00:00AM</td>\n",
       "      <td>BURGLARY</td>\n",
       "      <td>FORCIBLE ENTRY</td>\n",
       "      <td>-87.657556</td>\n",
       "      <td>41.781309</td>\n",
       "      <td>17.0</td>\n",
       "    </tr>\n",
       "    <tr>\n",
       "      <th>609</th>\n",
       "      <td>HV133187</td>\n",
       "      <td>01/01/2012</td>\n",
       "      <td>09:00:00AM</td>\n",
       "      <td>BURGLARY</td>\n",
       "      <td>FORCIBLE ENTRY</td>\n",
       "      <td>-87.644683</td>\n",
       "      <td>41.933569</td>\n",
       "      <td>5.0</td>\n",
       "    </tr>\n",
       "    <tr>\n",
       "      <th>658</th>\n",
       "      <td>HV176765</td>\n",
       "      <td>02/28/2012</td>\n",
       "      <td>03:00:00PM</td>\n",
       "      <td>BURGLARY</td>\n",
       "      <td>FORCIBLE ENTRY</td>\n",
       "      <td>-87.691860</td>\n",
       "      <td>41.852865</td>\n",
       "      <td>21.0</td>\n",
       "    </tr>\n",
       "    <tr>\n",
       "      <th>704</th>\n",
       "      <td>HV221866</td>\n",
       "      <td>03/30/2012</td>\n",
       "      <td>10:00:00AM</td>\n",
       "      <td>BURGLARY</td>\n",
       "      <td>UNLAWFUL ENTRY</td>\n",
       "      <td>-87.605261</td>\n",
       "      <td>41.776786</td>\n",
       "      <td>18.0</td>\n",
       "    </tr>\n",
       "    <tr>\n",
       "      <th>804</th>\n",
       "      <td>HV297926</td>\n",
       "      <td>05/20/2012</td>\n",
       "      <td>01:39:00AM</td>\n",
       "      <td>BURGLARY</td>\n",
       "      <td>FORCIBLE ENTRY</td>\n",
       "      <td>-87.669101</td>\n",
       "      <td>41.940310</td>\n",
       "      <td>5.0</td>\n",
       "    </tr>\n",
       "  </tbody>\n",
       "</table>\n",
       "</div>"
      ],
      "text/plain": [
       "    Case Number        Date        Time Primary Type     Description  \\\n",
       "578    HV114556  01/11/2012  08:00:00AM     BURGLARY  FORCIBLE ENTRY   \n",
       "609    HV133187  01/01/2012  09:00:00AM     BURGLARY  FORCIBLE ENTRY   \n",
       "658    HV176765  02/28/2012  03:00:00PM     BURGLARY  FORCIBLE ENTRY   \n",
       "704    HV221866  03/30/2012  10:00:00AM     BURGLARY  UNLAWFUL ENTRY   \n",
       "804    HV297926  05/20/2012  01:39:00AM     BURGLARY  FORCIBLE ENTRY   \n",
       "\n",
       "     Longitude   Latitude  Police Districts  \n",
       "578 -87.657556  41.781309              17.0  \n",
       "609 -87.644683  41.933569               5.0  \n",
       "658 -87.691860  41.852865              21.0  \n",
       "704 -87.605261  41.776786              18.0  \n",
       "804 -87.669101  41.940310               5.0  "
      ]
     },
     "execution_count": 22,
     "metadata": {},
     "output_type": "execute_result"
    }
   ],
   "source": [
    "burglary_df.head()"
   ]
  },
  {
   "cell_type": "code",
   "execution_count": 23,
   "id": "9ed4b693",
   "metadata": {
    "scrolled": true
   },
   "outputs": [
    {
     "name": "stdout",
     "output_type": "stream",
     "text": [
      "(13432, 8)\n",
      "(11766, 8)\n",
      "(9758, 8)\n",
      "(9585, 8)\n",
      "(11909, 8)\n",
      "    Case Number        Date        Time Primary Type     Description  \\\n",
      "558    HV101758  01/02/2012  11:45:00AM      ROBBERY  ARMED: HANDGUN   \n",
      "562    HV105007  01/04/2012  09:20:00PM      ROBBERY  ARMED: HANDGUN   \n",
      "588    HV119704  01/14/2012  03:30:00PM      ROBBERY  ARMED: HANDGUN   \n",
      "598    HV127044  01/21/2012  11:45:00PM      ROBBERY  ARMED: HANDGUN   \n",
      "667    HV186234  03/06/2012  10:30:00PM      ROBBERY      AGGRAVATED   \n",
      "\n",
      "     Longitude   Latitude  Police Districts  \n",
      "558 -87.630561  41.765423              17.0  \n",
      "562 -87.603357  41.800846              24.0  \n",
      "588 -87.771129  41.894771              25.0  \n",
      "598 -87.680312  41.903138               7.0  \n",
      "667 -87.721942  41.750451              13.0  \n"
     ]
    }
   ],
   "source": [
    "# robbery \n",
    "option = [\"ROBBERY\"]\n",
    "\n",
    "temp_df1, tempdf2, tempdf3, tempdf4, tempdf5 = prepareDatasets(option)"
   ]
  },
  {
   "cell_type": "code",
   "execution_count": 24,
   "id": "4492952a",
   "metadata": {},
   "outputs": [
    {
     "data": {
      "text/plain": [
       "(1040, 8)"
      ]
     },
     "execution_count": 24,
     "metadata": {},
     "output_type": "execute_result"
    }
   ],
   "source": [
    "robbery_df1 = temp_df1.iloc[0:1040, :]\n",
    "robbery_df1.shape"
   ]
  },
  {
   "cell_type": "code",
   "execution_count": 25,
   "id": "288b2adc",
   "metadata": {},
   "outputs": [
    {
     "name": "stdout",
     "output_type": "stream",
     "text": [
      "(74694, 8)\n",
      "(71041, 8)\n",
      "(61021, 8)\n",
      "(56382, 8)\n",
      "(60687, 8)\n",
      "    Case Number        Date        Time Primary Type   Description  Longitude  \\\n",
      "552    HV137197  01/25/2012  01:00:00PM        THEFT     OVER $500 -87.666795   \n",
      "555    HV569708  11/19/2012  02:24:00PM        THEFT  RETAIL THEFT -87.631050   \n",
      "556    HV100940  01/01/2012  12:30:00PM        THEFT     OVER $500 -87.646778   \n",
      "559    HV103125  01/03/2012  01:50:00PM        THEFT     OVER $500 -87.673936   \n",
      "560    HV103754  01/03/2012  09:20:00PM        THEFT     OVER $500 -87.689854   \n",
      "\n",
      "      Latitude  Police Districts  \n",
      "552  41.933337               5.0  \n",
      "555  41.888789              14.0  \n",
      "556  41.881787              15.0  \n",
      "559  41.780702              17.0  \n",
      "560  41.996830              11.0  \n"
     ]
    }
   ],
   "source": [
    "# theft \n",
    "option = [\"THEFT\"]\n",
    "\n",
    "temp_df1, tempdf2, tempdf3, tempdf4, tempdf5 = prepareDatasets(option)"
   ]
  },
  {
   "cell_type": "code",
   "execution_count": 26,
   "id": "0bc1c2e7",
   "metadata": {},
   "outputs": [
    {
     "data": {
      "text/plain": [
       "(22635, 8)"
      ]
     },
     "execution_count": 26,
     "metadata": {},
     "output_type": "execute_result"
    }
   ],
   "source": [
    "# 22635 \n",
    "\n",
    "theft_df1 = temp_df1.iloc[0:22635, :]\n",
    "theft_df1.shape"
   ]
  },
  {
   "cell_type": "code",
   "execution_count": 27,
   "id": "b029bbb4",
   "metadata": {},
   "outputs": [
    {
     "name": "stdout",
     "output_type": "stream",
     "text": [
      "(16436, 8)\n",
      "(12541, 8)\n",
      "(9859, 8)\n",
      "(9973, 8)\n",
      "(11238, 8)\n",
      "     Case Number        Date        Time         Primary Type Description  \\\n",
      "2057    HV100356  01/01/2012  03:00:00AM  MOTOR VEHICLE THEFT  AUTOMOBILE   \n",
      "2167    HV100443  01/01/2012  05:30:00AM  MOTOR VEHICLE THEFT  AUTOMOBILE   \n",
      "2170    HV100593  01/01/2012  04:45:00AM  MOTOR VEHICLE THEFT  AUTOMOBILE   \n",
      "2250    HV100793  01/01/2012  12:30:00AM  MOTOR VEHICLE THEFT  AUTOMOBILE   \n",
      "2259    HV100759  01/01/2012  11:50:00AM  MOTOR VEHICLE THEFT  AUTOMOBILE   \n",
      "\n",
      "      Longitude   Latitude  Police Districts  \n",
      "2057 -87.745904  41.899173              25.0  \n",
      "2167 -87.740683  41.806656              13.0  \n",
      "2170 -87.700214  41.968524               2.0  \n",
      "2250 -87.576435  41.771078              18.0  \n",
      "2259 -87.642528  41.697121               9.0  \n"
     ]
    }
   ],
   "source": [
    "# Dacoity\n",
    "\n",
    "option = [\"MOTOR VEHICLE THEFT\"]\n",
    "temp_df1, tempdf2, tempdf3, tempdf4, tempdf5 = prepareDatasets(option)"
   ]
  },
  {
   "cell_type": "code",
   "execution_count": 28,
   "id": "7ce8b768",
   "metadata": {},
   "outputs": [
    {
     "data": {
      "text/plain": [
       "(106, 8)"
      ]
     },
     "execution_count": 28,
     "metadata": {},
     "output_type": "execute_result"
    }
   ],
   "source": [
    "# 106\n",
    "dacoity_df1 = temp_df1.iloc[0:106, :]\n",
    "dacoity_df1.shape"
   ]
  },
  {
   "cell_type": "markdown",
   "id": "d8c2b4ae",
   "metadata": {},
   "source": [
    "## Murder Primary Type "
   ]
  },
  {
   "cell_type": "code",
   "execution_count": 30,
   "id": "de4012d7",
   "metadata": {},
   "outputs": [],
   "source": [
    "option1 = [\"HOMICIDE\"]\n",
    "option2 = [\"FIRST DEGREE MURDER\"]\n",
    "murder_df1 = data_2012_clean[data_2012_clean[\"Primary Type\"].isin(option1) &  data_2012_clean[\"Description\"].isin(option2)] "
   ]
  },
  {
   "cell_type": "code",
   "execution_count": 32,
   "id": "186d1445",
   "metadata": {},
   "outputs": [
    {
     "data": {
      "text/html": [
       "<div>\n",
       "<style scoped>\n",
       "    .dataframe tbody tr th:only-of-type {\n",
       "        vertical-align: middle;\n",
       "    }\n",
       "\n",
       "    .dataframe tbody tr th {\n",
       "        vertical-align: top;\n",
       "    }\n",
       "\n",
       "    .dataframe thead th {\n",
       "        text-align: right;\n",
       "    }\n",
       "</style>\n",
       "<table border=\"1\" class=\"dataframe\">\n",
       "  <thead>\n",
       "    <tr style=\"text-align: right;\">\n",
       "      <th></th>\n",
       "      <th>Case Number</th>\n",
       "      <th>Date</th>\n",
       "      <th>Time</th>\n",
       "      <th>Primary Type</th>\n",
       "      <th>Description</th>\n",
       "      <th>Longitude</th>\n",
       "      <th>Latitude</th>\n",
       "      <th>Police Districts</th>\n",
       "    </tr>\n",
       "  </thead>\n",
       "  <tbody>\n",
       "    <tr>\n",
       "      <th>1874</th>\n",
       "      <td>HV130003</td>\n",
       "      <td>01/20/2012</td>\n",
       "      <td>08:00:00AM</td>\n",
       "      <td>HOMICIDE</td>\n",
       "      <td>FIRST DEGREE MURDER</td>\n",
       "      <td>-87.654763</td>\n",
       "      <td>41.854900</td>\n",
       "      <td>15.0</td>\n",
       "    </tr>\n",
       "    <tr>\n",
       "      <th>1875</th>\n",
       "      <td>HV458091</td>\n",
       "      <td>09/02/2012</td>\n",
       "      <td>12:45:00PM</td>\n",
       "      <td>HOMICIDE</td>\n",
       "      <td>FIRST DEGREE MURDER</td>\n",
       "      <td>-87.681638</td>\n",
       "      <td>42.018518</td>\n",
       "      <td>11.0</td>\n",
       "    </tr>\n",
       "    <tr>\n",
       "      <th>1876</th>\n",
       "      <td>HT364674</td>\n",
       "      <td>07/13/2012</td>\n",
       "      <td>07:00:00AM</td>\n",
       "      <td>HOMICIDE</td>\n",
       "      <td>FIRST DEGREE MURDER</td>\n",
       "      <td>-87.701260</td>\n",
       "      <td>41.798446</td>\n",
       "      <td>23.0</td>\n",
       "    </tr>\n",
       "    <tr>\n",
       "      <th>1877</th>\n",
       "      <td>HV110472</td>\n",
       "      <td>01/09/2012</td>\n",
       "      <td>07:10:00AM</td>\n",
       "      <td>HOMICIDE</td>\n",
       "      <td>FIRST DEGREE MURDER</td>\n",
       "      <td>-87.723578</td>\n",
       "      <td>41.854333</td>\n",
       "      <td>21.0</td>\n",
       "    </tr>\n",
       "    <tr>\n",
       "      <th>1878</th>\n",
       "      <td>HV005106</td>\n",
       "      <td>06/30/2012</td>\n",
       "      <td>02:15:00AM</td>\n",
       "      <td>HOMICIDE</td>\n",
       "      <td>FIRST DEGREE MURDER</td>\n",
       "      <td>-87.689769</td>\n",
       "      <td>41.780259</td>\n",
       "      <td>13.0</td>\n",
       "    </tr>\n",
       "  </tbody>\n",
       "</table>\n",
       "</div>"
      ],
      "text/plain": [
       "     Case Number        Date        Time Primary Type          Description  \\\n",
       "1874    HV130003  01/20/2012  08:00:00AM     HOMICIDE  FIRST DEGREE MURDER   \n",
       "1875    HV458091  09/02/2012  12:45:00PM     HOMICIDE  FIRST DEGREE MURDER   \n",
       "1876    HT364674  07/13/2012  07:00:00AM     HOMICIDE  FIRST DEGREE MURDER   \n",
       "1877    HV110472  01/09/2012  07:10:00AM     HOMICIDE  FIRST DEGREE MURDER   \n",
       "1878    HV005106  06/30/2012  02:15:00AM     HOMICIDE  FIRST DEGREE MURDER   \n",
       "\n",
       "      Longitude   Latitude  Police Districts  \n",
       "1874 -87.654763  41.854900              15.0  \n",
       "1875 -87.681638  42.018518              11.0  \n",
       "1876 -87.701260  41.798446              23.0  \n",
       "1877 -87.723578  41.854333              21.0  \n",
       "1878 -87.689769  41.780259              13.0  "
      ]
     },
     "execution_count": 32,
     "metadata": {},
     "output_type": "execute_result"
    }
   ],
   "source": [
    "murder_df1.tail()"
   ]
  },
  {
   "cell_type": "code",
   "execution_count": 33,
   "id": "f0f3154f",
   "metadata": {},
   "outputs": [
    {
     "data": {
      "text/plain": [
       "(505, 8)"
      ]
     },
     "execution_count": 33,
     "metadata": {},
     "output_type": "execute_result"
    }
   ],
   "source": [
    "murder_df1.shape"
   ]
  },
  {
   "cell_type": "code",
   "execution_count": 34,
   "id": "fc2511e8",
   "metadata": {},
   "outputs": [],
   "source": [
    "option1 = [\"HOMICIDE\"]\n",
    "option2 = [\"FIRST DEGREE MURDER\"]\n",
    "murder_df2 = data_2013_clean[data_2013_clean[\"Primary Type\"].isin(option1)] "
   ]
  },
  {
   "cell_type": "code",
   "execution_count": 35,
   "id": "f32be280",
   "metadata": {},
   "outputs": [
    {
     "data": {
      "text/plain": [
       "(421, 8)"
      ]
     },
     "execution_count": 35,
     "metadata": {},
     "output_type": "execute_result"
    }
   ],
   "source": [
    "murder_df2.shape"
   ]
  },
  {
   "cell_type": "code",
   "execution_count": 36,
   "id": "5cc99c1c",
   "metadata": {},
   "outputs": [],
   "source": [
    "murder_df2 = murder_df2.iloc[0:462, :]\n",
    "\n",
    "# combine both "
   ]
  },
  {
   "cell_type": "markdown",
   "id": "d51cbc56",
   "metadata": {},
   "source": [
    "## Rape"
   ]
  },
  {
   "cell_type": "code",
   "execution_count": null,
   "id": "12e46928",
   "metadata": {},
   "outputs": [],
   "source": [
    "option = [\"SEX OFFENSE\"] \n",
    "tempdf1, tempdf2, tempdf3, tempdf4 = prepareDatasets2(option)"
   ]
  },
  {
   "cell_type": "code",
   "execution_count": null,
   "id": "16c95192",
   "metadata": {},
   "outputs": [],
   "source": [
    "rape_df1 = tempdf1.iloc[0:1073, :]\n",
    "rape_df1.shape"
   ]
  },
  {
   "cell_type": "markdown",
   "id": "a4cf5c4d",
   "metadata": {},
   "source": [
    "## 3 )Assault \n",
    "ASSAULT ON WOMEN WITH INTENT TO OUTRAGE HER MODESTY <br>\n",
    "SEXUAL HARASSMENT <br>\n",
    "ASSAULT OR USE OF CRIMINAL FORCE ON WOMEN WITH INTENT TO DISROBE<br>\n",
    "VOYEURISM<br>\n",
    "STALKING<br>"
   ]
  },
  {
   "cell_type": "code",
   "execution_count": null,
   "id": "57990d1c",
   "metadata": {},
   "outputs": [],
   "source": [
    "# ASSAULT ON WOMEN WITH INTENT TO OUTRAGE HER MODESTY \n",
    "\n",
    "option = [\"ASSAULT\"] \n",
    "temp_df1, tempdf2, tempdf3, tempdf4 = prepareDatasets2(option)"
   ]
  },
  {
   "cell_type": "code",
   "execution_count": null,
   "id": "8c42bc68",
   "metadata": {},
   "outputs": [],
   "source": [
    "assault_on_women_df = temp_df1.iloc[0:1627, :]\n",
    "\n",
    "# assault_on_women_df.head()\n",
    "1627 + 376"
   ]
  },
  {
   "cell_type": "code",
   "execution_count": null,
   "id": "3d4eed75",
   "metadata": {},
   "outputs": [],
   "source": [
    "# ASSAULT OR USE OF CRIMINAL FORCE ON WOMEN WITH INTENT TO DISROBE\n",
    "assault_use_of_criminal_df = temp_df1.iloc[1627:2003]"
   ]
  },
  {
   "cell_type": "code",
   "execution_count": null,
   "id": "a13fd4a5",
   "metadata": {},
   "outputs": [],
   "source": [
    "# VOYEURISM\n",
    "voyeurism_df = tempdf1.iloc[2003:2047]"
   ]
  },
  {
   "cell_type": "code",
   "execution_count": null,
   "id": "80810fd4",
   "metadata": {},
   "outputs": [],
   "source": [
    "# SEXUAL HARASSMENT \n",
    "\n",
    "option = [\"CRIM SEXUAL ASSAULT\"] \n",
    "temp_df1, tempdf2, tempdf3, tempdf4 = prepareDatasets2(option)"
   ]
  },
  {
   "cell_type": "code",
   "execution_count": null,
   "id": "1b6d9715",
   "metadata": {},
   "outputs": [],
   "source": [
    "sexual_assault_df = temp_df1.iloc[0:614, :]\n",
    "sexual_assault_df.shape"
   ]
  },
  {
   "cell_type": "code",
   "execution_count": null,
   "id": "06aa98e2",
   "metadata": {},
   "outputs": [],
   "source": [
    "# STALKING\n",
    "\n",
    "option = [\"STALKING\"] \n",
    "temp_df1, tempdf2, tempdf3, tempdf4 = prepareDatasets2(option)"
   ]
  },
  {
   "cell_type": "code",
   "execution_count": null,
   "id": "0a5d7946",
   "metadata": {},
   "outputs": [],
   "source": [
    "stalking_df = temp_df1.iloc[0:298,:]"
   ]
  },
  {
   "cell_type": "code",
   "execution_count": null,
   "id": "cf2f6061",
   "metadata": {},
   "outputs": [],
   "source": []
  },
  {
   "cell_type": "markdown",
   "id": "177149ba",
   "metadata": {},
   "source": [
    "## Arms/Explosive - Related Acts\n",
    "The Arms Act <br>\n",
    "The Explosives Act <br>\n",
    "The Explosive Substances Act <br>"
   ]
  },
  {
   "cell_type": "code",
   "execution_count": null,
   "id": "85085373",
   "metadata": {
    "scrolled": true
   },
   "outputs": [],
   "source": [
    "option = [\"WEAPONS VIOLATION\"] \n",
    "temp_df1, tempdf2, tempdf3, tempdf4 = prepareDatasets2(option)"
   ]
  },
  {
   "cell_type": "code",
   "execution_count": null,
   "id": "8b28f16e",
   "metadata": {},
   "outputs": [],
   "source": [
    "arms_act_df = temp_df1.iloc[:2449, :]"
   ]
  },
  {
   "cell_type": "code",
   "execution_count": null,
   "id": "442c8f5a",
   "metadata": {},
   "outputs": [],
   "source": [
    "explosives_df = temp_df1.iloc[2449:2521]"
   ]
  },
  {
   "cell_type": "code",
   "execution_count": null,
   "id": "194f03e5",
   "metadata": {},
   "outputs": [],
   "source": [
    "The_Explosive_Substances_Act_df = temp_df1.iloc[2521:(2521 + 67),:]\n",
    "The_Explosive_Substances_Act_df.shape"
   ]
  },
  {
   "cell_type": "markdown",
   "id": "151f8297",
   "metadata": {},
   "source": [
    "## Human Trafficking\n",
    "\n",
    "Human Trafficking -  \n",
    "Exploitation of Trafficked Person"
   ]
  },
  {
   "cell_type": "code",
   "execution_count": null,
   "id": "e7eec680",
   "metadata": {},
   "outputs": [],
   "source": [
    "option = [\"PROSTITUTION\"] \n",
    "temp_df1, tempdf2, tempdf3, tempdf4 = prepareDatasets2(option)\n",
    "\n",
    "prostituition_df = temp_df1.iloc[:25, :]"
   ]
  },
  {
   "cell_type": "markdown",
   "id": "aadf55a3",
   "metadata": {},
   "source": [
    "## Corruption\n",
    "Corruption"
   ]
  },
  {
   "cell_type": "code",
   "execution_count": null,
   "id": "16ab2a31",
   "metadata": {},
   "outputs": [],
   "source": [
    "option = [\"STALKING\"] \n",
    "temp_df1, tempdf2, tempdf3, tempdf4 = prepareDatasets2(option)\n",
    "_df = temp_df1.iloc[:, :]"
   ]
  },
  {
   "cell_type": "markdown",
   "id": "9ca85db4",
   "metadata": {},
   "source": [
    " ## Extortion and blackmail \n",
    " Extortion and blackmail "
   ]
  },
  {
   "cell_type": "code",
   "execution_count": null,
   "id": "c5c7b33e",
   "metadata": {
    "scrolled": true
   },
   "outputs": [],
   "source": [
    "option = [\"INTIMIDATION\"] \n",
    "temp_df1, tempdf2, tempdf3, tempdf4 = prepareDatasets2(option)\n",
    "extortion_df = temp_df1.iloc[0:371,:]"
   ]
  },
  {
   "cell_type": "code",
   "execution_count": null,
   "id": "55d8804f",
   "metadata": {},
   "outputs": [],
   "source": []
  },
  {
   "cell_type": "markdown",
   "id": "3a8bad3c",
   "metadata": {},
   "source": [
    "## Child abuse\n",
    "Selling of Minors for Prostitution - \n",
    "Buying of Minors for Prostitution - \n",
    "The Protection of Children from Sexual Offences Act - \n",
    "The Juvenile Justice (Care and Protection of Children) Act - \n",
    "The Prohibition of Child Marriage Act - \n",
    "The Pre-Natal Diagnostic Techniques (Reg and Prev of Misuse) Act - \n",
    "The Child Labour (Prohibition & Regulation) Act - \n",
    "The Medical Termination of Pregnancy Act - "
   ]
  },
  {
   "cell_type": "code",
   "execution_count": null,
   "id": "98a1dfb5",
   "metadata": {},
   "outputs": [],
   "source": [
    "option = [\"OFFENSE INVOLVING CHILDREN\"] \n",
    "temp_df1, tempdf2, tempdf3, tempdf4 = prepareDatasets2(option)\n",
    "\n",
    "Selling_of_Minors_for_Prostitution_df = temp_df1.iloc[:1, :]"
   ]
  },
  {
   "cell_type": "code",
   "execution_count": null,
   "id": "d088951f",
   "metadata": {},
   "outputs": [],
   "source": [
    "# option = [\"OFFENSE INVOLVING CHILDREN\"] \n",
    "# temp_df1, tempdf2, tempdf3, tempdf4 = prepareDatasets2(option)\n",
    "# _df = temp_df1.iloc[1:, :]"
   ]
  },
  {
   "cell_type": "code",
   "execution_count": null,
   "id": "e96a162d",
   "metadata": {},
   "outputs": [],
   "source": [
    "option = [\"OFFENSE INVOLVING CHILDREN\"] \n",
    "temp_df1, tempdf2, tempdf3, tempdf4 = prepareDatasets2(option)\n",
    "TheProtectionofChildrenfromSexualOffencesAct_df = temp_df1.iloc[1:1586, :]"
   ]
  },
  {
   "cell_type": "code",
   "execution_count": null,
   "id": "e91563d5",
   "metadata": {},
   "outputs": [],
   "source": [
    "option = [\"OFFENSE INVOLVING CHILDREN\"] \n",
    "temp_df1, tempdf2, tempdf3, tempdf4 = prepareDatasets2(option)\n",
    "The_Juvenile_Justice_Care_and_Protection_of_Children_Act_df = temp_df1.iloc[1586: 1652, :]\n",
    "The_Juvenile_Justice_Care_and_Protection_of_Children_Act_df.shape"
   ]
  },
  {
   "cell_type": "code",
   "execution_count": null,
   "id": "13e77e6f",
   "metadata": {},
   "outputs": [],
   "source": [
    "option = [\"OFFENSE INVOLVING CHILDREN\"] \n",
    "temp_df1, tempdf2, tempdf3, tempdf4 = prepareDatasets2(option)\n",
    "The_Prohibition_of_Child_Marriage_Act_df = temp_df1.iloc[1652:1670, :]\n",
    "The_Prohibition_of_Child_Marriage_Act_df.shape"
   ]
  },
  {
   "cell_type": "code",
   "execution_count": null,
   "id": "e01c35af",
   "metadata": {},
   "outputs": [],
   "source": [
    "option = [\"OFFENSE INVOLVING CHILDREN\"] \n",
    "temp_df1, tempdf2, tempdf3, tempdf4 = prepareDatasets2(option)\n",
    "The_PreNatal_Diagnostic_Techniques_Reg_and_Prev_of_Misuse_Act_df = temp_df1.iloc[1670:1672, :]\n",
    "The_PreNatal_Diagnostic_Techniques_Reg_and_Prev_of_Misuse_Act_df.shape"
   ]
  },
  {
   "cell_type": "code",
   "execution_count": null,
   "id": "02c34454",
   "metadata": {},
   "outputs": [],
   "source": [
    "option = [\"OFFENSE INVOLVING CHILDREN\"] \n",
    "temp_df1, tempdf2, tempdf3, tempdf4 = prepareDatasets2(option)\n",
    "The_Child_Labour_Prohibition_Regulation_Act_df = temp_df1.iloc[1672:1698, :]\n",
    "The_Child_Labour_Prohibition_Regulation_Act_df.shape"
   ]
  },
  {
   "cell_type": "code",
   "execution_count": null,
   "id": "f6d3933e",
   "metadata": {},
   "outputs": [],
   "source": [
    "option = [\"OFFENSE INVOLVING CHILDREN\"] \n",
    "temp_df1, tempdf2, tempdf3, tempdf4 = prepareDatasets2(option)\n",
    "The_Medical_Termination_of_Pregnancy_Act_df = temp_df1.iloc[1698:1699, :]\n",
    "The_Medical_Termination_of_Pregnancy_Act_df.shape"
   ]
  },
  {
   "cell_type": "markdown",
   "id": "c11d1485",
   "metadata": {},
   "source": [
    "## DRUNK DRIVING, ROAD RAGES\n",
    "Deaths due to Negligence relating to Road Accidents -\n",
    "Rash Driving on Public way"
   ]
  },
  {
   "cell_type": "code",
   "execution_count": null,
   "id": "1f4a131b",
   "metadata": {},
   "outputs": [],
   "source": [
    "option = [\"STALKING\"] \n",
    "temp_df1, tempdf2, tempdf3, tempdf4 = prepareDatasets2(option)\n",
    "_df = temp_df1.iloc[:, :]"
   ]
  },
  {
   "cell_type": "code",
   "execution_count": null,
   "id": "020dfea5",
   "metadata": {},
   "outputs": [],
   "source": [
    "option = [\"STALKING\"] \n",
    "temp_df1, tempdf2, tempdf3, tempdf4 = prepareDatasets2(option)\n",
    "_df = temp_df1.iloc[:, :]"
   ]
  },
  {
   "cell_type": "markdown",
   "id": "acf499d6",
   "metadata": {},
   "source": [
    "## Abduction or Kidnapping\n",
    "Kidnapping and Abduction - <br>\n",
    "Kidnapping and Abduction for the Purpose of Begging <br>\n",
    "Kidnapping and Abduction in order to Murder  <br>\n",
    "Kidnapping for Ransom <br>\n",
    "Kidnapping and Abduction of Women to compel her for marriage <br>\n",
    "Procuration of Minor Girls <br>\n",
    "Importation of Girls from Foreign Country <br>\n",
    "Other Kidnapping & Abducion <br>"
   ]
  },
  {
   "cell_type": "code",
   "execution_count": null,
   "id": "46bd078a",
   "metadata": {
    "scrolled": true
   },
   "outputs": [],
   "source": [
    "option = [\"KIDNAPPING\"] \n",
    "temp_df1, tempdf2, tempdf3, tempdf4 = prepareDatasets2(option)\n",
    "Kidnapping_and_Abduction_df = temp_df1.iloc[0:1081,:]"
   ]
  },
  {
   "cell_type": "code",
   "execution_count": null,
   "id": "d71fc70a",
   "metadata": {},
   "outputs": [],
   "source": [
    " # NOT ENOUGH DATA "
   ]
  },
  {
   "cell_type": "code",
   "execution_count": null,
   "id": "0d765978",
   "metadata": {},
   "outputs": [],
   "source": [
    "\n",
    "temp_df1, tempdf2, tempdf3, tempdf4 = prepareDatasets2(option)\n",
    "_df = temp_df1.iloc[:, :]"
   ]
  },
  {
   "cell_type": "code",
   "execution_count": null,
   "id": "01ca0daa",
   "metadata": {},
   "outputs": [],
   "source": [
    "temp_df1, tempdf2, tempdf3, tempdf4 = prepareDatasets2(option)\n",
    "_df = temp_df1.iloc[:, :]"
   ]
  },
  {
   "cell_type": "code",
   "execution_count": null,
   "id": "9508fcc3",
   "metadata": {},
   "outputs": [],
   "source": [
    "temp_df1, tempdf2, tempdf3, tempdf4 = prepareDatasets2(option)\n",
    "_df = temp_df1.iloc[:, :]"
   ]
  },
  {
   "cell_type": "code",
   "execution_count": null,
   "id": "a3a136db",
   "metadata": {},
   "outputs": [],
   "source": [
    "\n",
    "temp_df1, tempdf2, tempdf3, tempdf4 = prepareDatasets2(option)\n",
    "_df = temp_df1.iloc[:, :]"
   ]
  },
  {
   "cell_type": "code",
   "execution_count": null,
   "id": "b4c42b95",
   "metadata": {},
   "outputs": [],
   "source": [
    "\n",
    "temp_df1, tempdf2, tempdf3, tempdf4 = prepareDatasets2(option)\n",
    "_df = temp_df1.iloc[:, :]"
   ]
  },
  {
   "cell_type": "code",
   "execution_count": null,
   "id": "d55be733",
   "metadata": {},
   "outputs": [],
   "source": [
    "\n",
    "temp_df1, tempdf2, tempdf3, tempdf4 = prepareDatasets2(option)\n",
    "_df = temp_df1.iloc[:, :]"
   ]
  },
  {
   "cell_type": "code",
   "execution_count": null,
   "id": "7b319f70",
   "metadata": {},
   "outputs": [],
   "source": [
    "\n",
    "temp_df1, tempdf2, tempdf3, tempdf4 = prepareDatasets2(option)\n",
    "_df = temp_df1.iloc[:, :]"
   ]
  },
  {
   "cell_type": "markdown",
   "id": "5c610681",
   "metadata": {},
   "source": [
    "## Culpable Homicide and Grevious Hurt\n",
    "Culpable Homicide not amounting to Murder <br>\n",
    "Grievous Hurt (includes Acid Attack as well)<br>"
   ]
  },
  {
   "cell_type": "code",
   "execution_count": null,
   "id": "8516c55a",
   "metadata": {},
   "outputs": [],
   "source": [
    "option1 = [\"HOMICIDE\"]\n",
    "option2 = [\"RECKLESS HOMICIDE\"]\n",
    "\n",
    "temp_df1 = data_2012_clean[data_2012_clean[\"Primary Type\"].isin(option1)] \n",
    "temp_df2 = data_2013_clean[data_2013_clean[\"Primary Type\"].isin(option1)] \n",
    "temp_df3 = data_2014_clean[data_2014_clean[\"Primary Type\"].isin(option1)] \n",
    "temp_df4 = data_2015_clean[data_2015_clean[\"Primary Type\"].isin(option1)] \n",
    "temp_df5 = data_2016_clean[data_2016_clean[\"Primary Type\"].isin(option1)] \n",
    "\n",
    "temp_df1.shape, temp_df2.shape, temp_df3.shape, temp_df4.shape, temp_df5.shape "
   ]
  },
  {
   "cell_type": "code",
   "execution_count": null,
   "id": "57d2da95",
   "metadata": {},
   "outputs": [],
   "source": [
    "Culpable_Homicide_not_amounting_to_Murder_df = temp_df1.iloc[0:116]\n"
   ]
  },
  {
   "cell_type": "code",
   "execution_count": null,
   "id": "85959348",
   "metadata": {},
   "outputs": [],
   "source": [
    "Grievous_Hurt_includes_Acid_Attack_as_well_df = temp_df1.iloc[116:506,:]\n",
    "Grievous_Hurt_includes_Acid_Attack_as_well_df = Grievous_Hurt_includes_Acid_Attack_as_well_df.append(temp_df2)\n",
    "Grievous_Hurt_includes_Acid_Attack_as_well_df = Grievous_Hurt_includes_Acid_Attack_as_well_df.append(temp_df3)\n",
    "Grievous_Hurt_includes_Acid_Attack_as_well_df = Grievous_Hurt_includes_Acid_Attack_as_well_df.append(temp_df4)\n",
    "Grievous_Hurt_includes_Acid_Attack_as_well_df = Grievous_Hurt_includes_Acid_Attack_as_well_df.append(temp_df5)\n",
    "\n",
    "Grievous_Hurt_includes_Acid_Attack_as_well_df = Grievous_Hurt_includes_Acid_Attack_as_well_df.iloc[0:2525]"
   ]
  },
  {
   "cell_type": "code",
   "execution_count": null,
   "id": "b38960bb",
   "metadata": {},
   "outputs": [],
   "source": [
    "# not enough data for Grievous_Hurt_includes_Acid_Attack_as_well_df but filled as much possible "
   ]
  },
  {
   "cell_type": "markdown",
   "id": "183145aa",
   "metadata": {},
   "source": [
    "## The Immoral Traffic (Prevention) Act\n",
    "The Immoral Traffic (Prevention) Act"
   ]
  },
  {
   "cell_type": "code",
   "execution_count": null,
   "id": "513f140f",
   "metadata": {},
   "outputs": [],
   "source": [
    "option = [\"PROSTITUTION\"] \n",
    "temp_df1, tempdf2, tempdf3, tempdf4 = prepareDatasets2(option)\n",
    "# takinf from 2015 \n",
    "The_Immoral_Traffic_Prevention_Act_df = temp_df4.iloc[0:55, :]"
   ]
  },
  {
   "cell_type": "markdown",
   "id": "fb37521c",
   "metadata": {},
   "source": [
    "## The Mines and Minerals (Development and Regulation) Act\n",
    "The Mines and Minerals (Development and Regulation) Act"
   ]
  },
  {
   "cell_type": "code",
   "execution_count": null,
   "id": "384239a5",
   "metadata": {},
   "outputs": [],
   "source": [
    "option = [\"STALKING\"] \n",
    "temp_df1, tempdf2, tempdf3, tempdf4 = prepareDatasets2(option)\n",
    "\n",
    "\n",
    "_df = temp_df4.iloc[:, :]"
   ]
  },
  {
   "cell_type": "markdown",
   "id": "9730be2a",
   "metadata": {},
   "source": [
    "## The Gambling Act\n",
    "The Gambling Act"
   ]
  },
  {
   "cell_type": "code",
   "execution_count": null,
   "id": "9d71c3ad",
   "metadata": {},
   "outputs": [],
   "source": [
    "option = [\"GAMBLING\"] \n",
    "temp_df1, tempdf2, tempdf3, tempdf4 = prepareDatasets2(option)\n",
    "The_Gambling_Act_df = temp_df1.iloc[0:2211, :]\n",
    "# not enough data in this "
   ]
  },
  {
   "cell_type": "markdown",
   "id": "decca16c",
   "metadata": {},
   "source": [
    "## Drug smuggling, possesion, sale or use of drugs\n",
    "Prohibition Act (State) <br>\n",
    "The Excise Act<br>\n",
    "The Narcotic Drugs & Psychotropic Substances Act<br>"
   ]
  },
  {
   "cell_type": "code",
   "execution_count": null,
   "id": "a3f5965b",
   "metadata": {
    "scrolled": true
   },
   "outputs": [],
   "source": [
    "option = [\"NARCOTICS\"] \n",
    "temp_df1, tempdf2, tempdf3, tempdf4 = prepareDatasets2(option)\n",
    "Prohibition_Act_State_df = temp_df1.iloc[0:18707, :]"
   ]
  },
  {
   "cell_type": "code",
   "execution_count": null,
   "id": "6a49c174",
   "metadata": {},
   "outputs": [],
   "source": [
    "option = [\"NARCOTICS\"] \n",
    "temp_df1, tempdf2, tempdf3, tempdf4 = prepareDatasets2(option)\n",
    "The_Excise_Act_df = temp_df1.iloc[18707:28357, :]"
   ]
  },
  {
   "cell_type": "code",
   "execution_count": null,
   "id": "f23ed0ff",
   "metadata": {},
   "outputs": [],
   "source": [
    "option = [\"NARCOTICS\"] \n",
    "temp_df1, tempdf2, tempdf3, tempdf4 = prepareDatasets2(option)\n",
    "The_Narcotic_Drugs_Psychotropic_Substances_Act_df = temp_df1.iloc[28357:28357 + 2437, :]"
   ]
  },
  {
   "cell_type": "markdown",
   "id": "33971c01",
   "metadata": {},
   "source": [
    "## Environment and Pollution - Related Acts\n",
    "The Forest Act & The Forest Conservation Act <br>\n",
    "The Wildlife Protection Act <br>\n",
    "The Environmental (Protection) Act <br>\n",
    "The Air & The Water (Prevention & Control of Pollution) Act <br>\n",
    "The Cigarette and Other Tobacco Products Act <br>\n",
    "Noise Pollution Acts <br>\n",
    "The National Green Tribunal Act <br>"
   ]
  },
  {
   "cell_type": "code",
   "execution_count": null,
   "id": "61ea6f68",
   "metadata": {},
   "outputs": [],
   "source": [
    "option = [\"OTHER OFFENSE\"] \n",
    "temp_df1, tempdf2, tempdf3, tempdf4 = prepareDatasets2(option)\n",
    "The_Forest_Act_The_Forest_Conservation_Act_df = temp_df1.iloc[0:71, :]"
   ]
  },
  {
   "cell_type": "code",
   "execution_count": null,
   "id": "eb98886d",
   "metadata": {},
   "outputs": [],
   "source": [
    "The_Wildlife_Protection_Act_df = temp_df1.iloc[71:92, :]\n",
    "The_Wildlife_Protection_Act_df.shape"
   ]
  },
  {
   "cell_type": "code",
   "execution_count": null,
   "id": "f79ccf21",
   "metadata": {},
   "outputs": [],
   "source": [
    "The_Environmental_Protection_Act_df = temp_df1.iloc[92:108, :]\n",
    "The_Environmental_Protection_Act_df.shape"
   ]
  },
  {
   "cell_type": "code",
   "execution_count": null,
   "id": "a16d1e01",
   "metadata": {},
   "outputs": [],
   "source": [
    "The_Air_The_Water_Prevention_Control_of_Pollution_Act_df = temp_df1.iloc[108:113, :]\n",
    "The_Air_The_Water_Prevention_Control_of_Pollution_Act_df.shape"
   ]
  },
  {
   "cell_type": "code",
   "execution_count": null,
   "id": "7c9ba01e",
   "metadata": {},
   "outputs": [],
   "source": [
    "The_Cigarette_and_Other_Tobacco_Products_Act_df = temp_df1.iloc[113:872, :]\n",
    "The_Cigarette_and_Other_Tobacco_Products_Act_df.shape"
   ]
  },
  {
   "cell_type": "code",
   "execution_count": null,
   "id": "3551cdbd",
   "metadata": {},
   "outputs": [],
   "source": [
    "Noise_Pollution_Acts_df = temp_df1.iloc[872:1158, :]\n",
    "Noise_Pollution_Acts_df.shape"
   ]
  },
  {
   "cell_type": "code",
   "execution_count": null,
   "id": "05750974",
   "metadata": {},
   "outputs": [],
   "source": [
    "The_National_Green_Tribunal_Act_df = temp_df1.iloc[1158:1161, :]"
   ]
  },
  {
   "cell_type": "code",
   "execution_count": null,
   "id": "0e71b97e",
   "metadata": {},
   "outputs": [],
   "source": [
    "The_National_Green_Tribunal_Act_df.shape"
   ]
  },
  {
   "cell_type": "code",
   "execution_count": null,
   "id": "4bdade8a",
   "metadata": {},
   "outputs": [],
   "source": [
    "# now we still need to complete some acts\n",
    "# then we need to store in each dataset their act\n",
    "# then combine all into one\n",
    "# after combing set all years to 2012\n",
    "# then we need to shift lat long\n",
    "# then we need to get aaddress for each lat long using geopy and store it \n",
    "# then finally try data on ML models "
   ]
  },
  {
   "cell_type": "code",
   "execution_count": null,
   "id": "b0e00344",
   "metadata": {},
   "outputs": [],
   "source": [
    "# Aakriti add anything above if I am missing anything ^ "
   ]
  },
  {
   "cell_type": "code",
   "execution_count": null,
   "id": "1050774d",
   "metadata": {},
   "outputs": [],
   "source": []
  }
 ],
 "metadata": {
  "kernelspec": {
   "display_name": "Python 3 (ipykernel)",
   "language": "python",
   "name": "python3"
  },
  "language_info": {
   "codemirror_mode": {
    "name": "ipython",
    "version": 3
   },
   "file_extension": ".py",
   "mimetype": "text/x-python",
   "name": "python",
   "nbconvert_exporter": "python",
   "pygments_lexer": "ipython3",
   "version": "3.10.4"
  }
 },
 "nbformat": 4,
 "nbformat_minor": 5
}
